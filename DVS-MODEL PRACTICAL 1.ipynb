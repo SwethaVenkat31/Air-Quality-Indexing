{
 "cells": [
  {
   "cell_type": "markdown",
   "id": "7d7c93c6",
   "metadata": {},
   "source": [
    "## BASIC OF DATA WRANGLING FEATURES"
   ]
  },
  {
   "cell_type": "code",
   "execution_count": 22,
   "id": "a4184916",
   "metadata": {},
   "outputs": [
    {
     "name": "stdout",
     "output_type": "stream",
     "text": [
      "    Name  Age        City\n",
      "0  Alice   21     Newyork\n",
      "1    Bob   20  Los Angels\n",
      "2   John   22      Mexico\n"
     ]
    }
   ],
   "source": [
    "#CREATING A DATAFRAME\n",
    "import pandas as pd \n",
    "df=pd.DataFrame({'Name':['Alice','Bob','John'],'Age':[21,20,22],'City':['Newyork','Los Angels','Mexico']})\n",
    "print(df)\n"
   ]
  },
  {
   "cell_type": "code",
   "execution_count": 5,
   "id": "1527c3ee",
   "metadata": {},
   "outputs": [
    {
     "data": {
      "text/html": [
       "<div>\n",
       "<style scoped>\n",
       "    .dataframe tbody tr th:only-of-type {\n",
       "        vertical-align: middle;\n",
       "    }\n",
       "\n",
       "    .dataframe tbody tr th {\n",
       "        vertical-align: top;\n",
       "    }\n",
       "\n",
       "    .dataframe thead th {\n",
       "        text-align: right;\n",
       "    }\n",
       "</style>\n",
       "<table border=\"1\" class=\"dataframe\">\n",
       "  <thead>\n",
       "    <tr style=\"text-align: right;\">\n",
       "      <th></th>\n",
       "      <th>Name</th>\n",
       "      <th>Age</th>\n",
       "      <th>City</th>\n",
       "    </tr>\n",
       "  </thead>\n",
       "  <tbody>\n",
       "    <tr>\n",
       "      <th>0</th>\n",
       "      <td>Alice</td>\n",
       "      <td>21</td>\n",
       "      <td>Newyork</td>\n",
       "    </tr>\n",
       "    <tr>\n",
       "      <th>1</th>\n",
       "      <td>Bob</td>\n",
       "      <td>20</td>\n",
       "      <td>Los Angels</td>\n",
       "    </tr>\n",
       "    <tr>\n",
       "      <th>2</th>\n",
       "      <td>John</td>\n",
       "      <td>22</td>\n",
       "      <td>Mexico</td>\n",
       "    </tr>\n",
       "  </tbody>\n",
       "</table>\n",
       "</div>"
      ],
      "text/plain": [
       "    Name  Age        City\n",
       "0  Alice   21     Newyork\n",
       "1    Bob   20  Los Angels\n",
       "2   John   22      Mexico"
      ]
     },
     "execution_count": 5,
     "metadata": {},
     "output_type": "execute_result"
    }
   ],
   "source": [
    "#READING CSV FILES:\n",
    "import pandas as pd\n",
    "df=pd.read_csv('sample.csv')\n",
    "df.head()"
   ]
  },
  {
   "cell_type": "code",
   "execution_count": 11,
   "id": "7e793726",
   "metadata": {},
   "outputs": [
    {
     "name": "stdout",
     "output_type": "stream",
     "text": [
      "     A    B\n",
      "2  2.0  4.0\n",
      "3  4.0  3.0\n"
     ]
    }
   ],
   "source": [
    "# DATA CLEANING\n",
    "import pandas as pd\n",
    "df=pd.DataFrame({'A':[None,1,2,4],'B':[2,None,4,3]})\n",
    "droped_df=df.dropna()\n",
    "print(droped_df)"
   ]
  },
  {
   "cell_type": "code",
   "execution_count": 12,
   "id": "c2565a80",
   "metadata": {},
   "outputs": [
    {
     "name": "stdout",
     "output_type": "stream",
     "text": [
      "       B\n",
      "A       \n",
      "1.0  0.0\n",
      "2.0  4.0\n",
      "4.0  3.0\n"
     ]
    }
   ],
   "source": [
    "# GROUPING THE DATA\n",
    "import pandas as pd\n",
    "df1=pd.DataFrame({'A':['foo','bar'],'B':[5,6]})\n",
    "df2=pd.DataFrame({'A':['foo','bar'],'B':[7,8]})\n",
    "group_by=df.groupby('A').sum()\n",
    "print(group_by)"
   ]
  },
  {
   "cell_type": "code",
   "execution_count": 14,
   "id": "46739ba1",
   "metadata": {},
   "outputs": [
    {
     "name": "stdout",
     "output_type": "stream",
     "text": [
      "     A  B_x  B_y\n",
      "0  foo    5   10\n",
      "1  bar    3   11\n",
      "2  fun    2   12\n"
     ]
    }
   ],
   "source": [
    "# MERGING THE DATA\n",
    "import pandas as pd\n",
    "df1=pd.DataFrame({'A':['foo','bar','fun'],'B':[5,3,2]})\n",
    "df2=pd.DataFrame({'A':['foo','bar','fun'],'B':[10,11,12]})\n",
    "df=pd.merge(df1,df2,on='A')\n",
    "print(df)"
   ]
  },
  {
   "cell_type": "code",
   "execution_count": 18,
   "id": "3646f4b3",
   "metadata": {},
   "outputs": [
    {
     "name": "stdout",
     "output_type": "stream",
     "text": [
      "A   bar   foo   fun\n",
      "B                  \n",
      "3   NaN   NaN  11.0\n",
      "5   NaN  10.0   NaN\n",
      "7  12.0   NaN   NaN\n"
     ]
    }
   ],
   "source": [
    "#PIVOT TABLE:\n",
    "\n",
    "import pandas as pd\n",
    "df=pd.DataFrame({'A':['foo','fun','bar'],'B':[5,3,7],'C':[10,11,12]})\n",
    "df1=pd.pivot_table(data=df,values='C',index='B',columns='A',aggfunc=sum)\n",
    "print(df1)"
   ]
  },
  {
   "cell_type": "code",
   "execution_count": 21,
   "id": "ca227068",
   "metadata": {},
   "outputs": [
    {
     "name": "stdout",
     "output_type": "stream",
     "text": [
      "   A  B\n",
      "0  1  2\n",
      "2  2  4\n",
      "3  3  5\n",
      "4  4  1\n"
     ]
    }
   ],
   "source": [
    "# DUPLICATES\n",
    "import pandas as pd\n",
    "df=pd.DataFrame({'A':[1,1,2,3,4],'B':[2,2,4,5,1]})\n",
    "df1=df.drop_duplicates()\n",
    "print(df1)"
   ]
  },
  {
   "cell_type": "code",
   "execution_count": null,
   "id": "6a392619",
   "metadata": {},
   "outputs": [],
   "source": []
  }
 ],
 "metadata": {
  "kernelspec": {
   "display_name": "Python 3 (ipykernel)",
   "language": "python",
   "name": "python3"
  },
  "language_info": {
   "codemirror_mode": {
    "name": "ipython",
    "version": 3
   },
   "file_extension": ".py",
   "mimetype": "text/x-python",
   "name": "python",
   "nbconvert_exporter": "python",
   "pygments_lexer": "ipython3",
   "version": "3.9.12"
  }
 },
 "nbformat": 4,
 "nbformat_minor": 5
}
